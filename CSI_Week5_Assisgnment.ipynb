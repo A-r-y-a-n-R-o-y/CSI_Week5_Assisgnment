{
  "nbformat": 4,
  "nbformat_minor": 0,
  "metadata": {
    "colab": {
      "provenance": []
    },
    "kernelspec": {
      "name": "python3",
      "display_name": "Python 3"
    },
    "language_info": {
      "name": "python"
    }
  },
  "cells": [
    {
      "cell_type": "code",
      "source": [
        "#Aryan Roy\n",
        "#CSI Week5 Assisgnment"
      ],
      "metadata": {
        "id": "rvPsGze0gOAp"
      },
      "execution_count": 4,
      "outputs": []
    },
    {
      "cell_type": "code",
      "execution_count": 1,
      "metadata": {
        "colab": {
          "base_uri": "https://localhost:8080/"
        },
        "id": "FX-YeOrqcELO",
        "outputId": "405931b9-5ca1-4208-b275-81e3c29147d1"
      },
      "outputs": [
        {
          "output_type": "stream",
          "name": "stdout",
          "text": [
            "Preprocessing complete!\n"
          ]
        }
      ],
      "source": [
        "import pandas as pd\n",
        "import numpy as np\n",
        "from sklearn.preprocessing import LabelEncoder\n",
        "\n",
        "train = pd.read_csv('/content/train.csv')\n",
        "test = pd.read_csv('/content/test.csv')\n",
        "\n",
        "train_labels = train['SalePrice']\n",
        "train.drop('SalePrice', axis=1, inplace=True)\n",
        "\n",
        "all_data = pd.concat([train, test], sort=False)\n",
        "\n",
        "num_cols = all_data.select_dtypes(include=['number']).columns\n",
        "for col in num_cols:\n",
        "    all_data[col] = all_data[col].fillna(all_data[col].median())\n",
        "\n",
        "cat_cols = all_data.select_dtypes(include=['object']).columns\n",
        "for col in cat_cols:\n",
        "    all_data[col] = all_data[col].fillna(all_data[col].mode()[0])\n",
        "\n",
        "ordinal_features = ['ExterQual', 'ExterCond', 'BsmtQual', 'BsmtCond',\n",
        "                    'HeatingQC', 'KitchenQual', 'GarageQual', 'GarageCond',\n",
        "                    'PoolQC', 'FireplaceQu']\n",
        "\n",
        "qual_mapping = {'Ex': 5, 'Gd': 4, 'TA': 3, 'Fa': 2, 'Po': 1, np.nan: 0}\n",
        "\n",
        "for col in ordinal_features:\n",
        "    all_data[col] = all_data[col].map(qual_mapping)\n",
        "\n",
        "all_data = pd.get_dummies(all_data)\n",
        "\n",
        "all_data['TotalSF'] = all_data['TotalBsmtSF'] + all_data['1stFlrSF'] + all_data['2ndFlrSF']\n",
        "\n",
        "X_train = all_data[:len(train)]\n",
        "X_test = all_data[len(train):]\n",
        "\n",
        "y_train = train_labels\n",
        "\n",
        "X_train.to_csv(\"X_train_processed.csv\", index=False)\n",
        "X_test.to_csv(\"X_test_processed.csv\", index=False)\n",
        "y_train.to_csv(\"y_train.csv\", index=False)\n",
        "\n",
        "print(\"Preprocessing complete!\")\n"
      ]
    },
    {
      "cell_type": "code",
      "source": [
        "import pandas as pd\n",
        "from sklearn.linear_model import LinearRegression\n",
        "from sklearn.metrics import mean_squared_error\n",
        "import numpy as np\n",
        "from sklearn.model_selection import cross_val_score\n",
        "\n",
        "X_train = pd.read_csv(\"X_train_processed.csv\")\n",
        "X_test = pd.read_csv(\"X_test_processed.csv\")\n",
        "y_train = pd.read_csv(\"y_train.csv\")\n",
        "\n",
        "model = LinearRegression()\n",
        "model.fit(X_train, y_train)\n",
        "\n",
        "train_preds = model.predict(X_train)\n",
        "rmse_train = np.sqrt(mean_squared_error(y_train, train_preds))\n",
        "print(\"Training RMSE:\", rmse_train)\n",
        "\n",
        "cv_scores = cross_val_score(model, X_train, y_train, scoring=\"neg_root_mean_squared_error\", cv=10)\n",
        "cv_rmse = -cv_scores.mean()\n",
        "print(\"Cross-Validation RMSE (10-fold):\", cv_rmse)\n",
        "\n",
        "test_preds = model.predict(X_test)\n",
        "\n",
        "print(\"There are\", len(test_preds), \"house prices predicted.\")\n",
        "index = int(input(\"Enter the index (0 to {}) of the house you want to see the predicted price for: \".format(len(test_preds)-1)))\n",
        "if 0 <= index < len(test_preds):\n",
        "    print(\"Predicted price of house at index\", index, \"is:\", test_preds[index])\n",
        "else:\n",
        "    print(\"Invalid index.\")\n"
      ],
      "metadata": {
        "colab": {
          "base_uri": "https://localhost:8080/"
        },
        "id": "eX1YhdSHe-O2",
        "outputId": "32c2884b-45d6-499c-df3e-c650351a2ba7"
      },
      "execution_count": 2,
      "outputs": [
        {
          "output_type": "stream",
          "name": "stdout",
          "text": [
            "Training RMSE: 22180.89274733687\n",
            "Cross-Validation RMSE (10-fold): 33643.94463403646\n",
            "There are 1459 house prices predicted.\n",
            "Enter the index (0 to 1458) of the house you want to see the predicted price for: 1\n",
            "Predicted price of house at index 1 is: [164286.2031257]\n"
          ]
        }
      ]
    }
  ]
}